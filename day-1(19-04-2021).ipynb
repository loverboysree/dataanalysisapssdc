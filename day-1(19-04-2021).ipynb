{
 "cells": [
  {
   "cell_type": "markdown",
   "metadata": {},
   "source": [
    "<u><h2>HEADINGS: </h2></u>\n",
    "\n",
    "# heading 1\n",
    "## heading 2\n",
    "### heading 3\n",
    "\n",
    "<u><h2>ORDERD LIST :</h2></u>\n",
    "1. ravi chandra  \n",
    "    a. this is sublist 1  \n",
    "    b. this is sublist 2  \n",
    "2. sreedher\n",
    "3. vasu  \n",
    "\n",
    "<u><h2>UNORDER LIST :</h2></u>\n",
    "* ulist1  \n",
    "* ulist2  \n",
    "* ulist3  \n",
    "\n",
    "<u><h2>BOLD TEXT :</h2></u>\n",
    "**This is Bold Text**\n",
    "<u><h2>ITALIC TEXT :</h2></u>\n",
    "*This is italic text*\n",
    "<u><h2>BOLD AND ITALIC TEXT :</h2></u>\n",
    "***This is bold and italic text***\n",
    "\n",
    "<u><h2>LINKS :</h2></u>\n",
    "[click here](https://www.google.com)\n",
    "\n",
    "<u><h2>IMAGES :</h2></u>\n",
    "![click here](https://images.unsplash.com/photo-1515879218367-8466d910aaa4?ixid=MnwxMjA3fDB8MHxzZWFyY2h8M3x8cHl0aG9uJTIwcHJvZ3JhbW1pbmd8ZW58MHx8MHx8&ixlib=rb-1.2.1&w=1000&q=80)\n"
   ]
  },
  {
   "cell_type": "markdown",
   "metadata": {},
   "source": []
  },
  {
   "cell_type": "code",
   "execution_count": 2,
   "metadata": {},
   "outputs": [
    {
     "name": "stdout",
     "output_type": "stream",
     "text": [
      "enter a number :2\n",
      "not valid\n"
     ]
    }
   ],
   "source": [
    "# check wether the given number is divisible by 2 and 10 print valid if yes or print not valid if not\n",
    "n = int(input(\"enter a number :\"))\n",
    "if n%2 == 0 and n%10 == 0:\n",
    "    print(\"valid\")\n",
    "else:\n",
    "    print(\"not valid\")"
   ]
  },
  {
   "cell_type": "code",
   "execution_count": 4,
   "metadata": {},
   "outputs": [
    {
     "name": "stdout",
     "output_type": "stream",
     "text": [
      "10\n",
      "1.0\n",
      "True\n",
      "ravi, sreedher, vasu\n",
      "(1+2j)\n",
      "<class 'int'>\n",
      "<class 'float'>\n",
      "<class 'bool'>\n",
      "<class 'str'>\n",
      "<class 'complex'>\n"
     ]
    }
   ],
   "source": [
    "a = 10\n",
    "b= 1.0\n",
    "c = True\n",
    "d= \"ravi, sreedher, vasu\"\n",
    "e = 1+2j\n",
    "print(a)\n",
    "print(b)\n",
    "print(c)\n",
    "print(d)\n",
    "print(e)\n",
    "print(type(a))\n",
    "print(type(b))\n",
    "print(type(c))\n",
    "print(type(d))\n",
    "print(type(e))"
   ]
  },
  {
   "cell_type": "code",
   "execution_count": 5,
   "metadata": {},
   "outputs": [
    {
     "name": "stdout",
     "output_type": "stream",
     "text": [
      "10\n",
      "10.0\n",
      "(10+0j)\n"
     ]
    }
   ],
   "source": [
    "#data type conversion\n",
    "a = 10\n",
    "print(str(a))\n",
    "print(float(a))\n",
    "print(complex(a))"
   ]
  },
  {
   "cell_type": "code",
   "execution_count": 11,
   "metadata": {},
   "outputs": [
    {
     "name": "stdout",
     "output_type": "stream",
     "text": [
      "1\n",
      "1\n",
      "(1+0j)\n",
      "True\n"
     ]
    }
   ],
   "source": [
    "a = 1\n",
    "print(int(a))\n",
    "print(str(a))\n",
    "print(complex(a))\n",
    "print(bool(a))"
   ]
  },
  {
   "cell_type": "code",
   "execution_count": 12,
   "metadata": {},
   "outputs": [
    {
     "name": "stdout",
     "output_type": "stream",
     "text": [
      "10\n"
     ]
    }
   ],
   "source": [
    "a = \"10\"\n",
    "print(int(a))"
   ]
  },
  {
   "cell_type": "code",
   "execution_count": 13,
   "metadata": {},
   "outputs": [
    {
     "name": "stdout",
     "output_type": "stream",
     "text": [
      "10.0\n"
     ]
    }
   ],
   "source": [
    "print(float(a))"
   ]
  },
  {
   "cell_type": "code",
   "execution_count": 5,
   "metadata": {},
   "outputs": [
    {
     "name": "stdout",
     "output_type": "stream",
     "text": [
      "enter an input interger :10\n",
      "1\n"
     ]
    }
   ],
   "source": [
    "ravi = int(input(\"enter an input interger :\"))\n",
    "if ravi == 10:\n",
    "    print(1)\n",
    "else:\n",
    "    print(0)"
   ]
  },
  {
   "cell_type": "code",
   "execution_count": 9,
   "metadata": {},
   "outputs": [
    {
     "name": "stdout",
     "output_type": "stream",
     "text": [
      "Rk collge\n",
      "Rk collge\n",
      "Rk collge\n",
      "Rk collge\n",
      "Rk collge\n"
     ]
    }
   ],
   "source": [
    "for i in range(1,6):\n",
    "    print(\"Rk collge\")"
   ]
  },
  {
   "cell_type": "code",
   "execution_count": 15,
   "metadata": {},
   "outputs": [
    {
     "name": "stdout",
     "output_type": "stream",
     "text": [
      "0 1 2 3 4 5 6 "
     ]
    }
   ],
   "source": [
    "a = \"Hemanth\"\n",
    "for i in range(len(a)):\n",
    "    print(i, end=\" \") "
   ]
  },
  {
   "cell_type": "code",
   "execution_count": 16,
   "metadata": {},
   "outputs": [
    {
     "name": "stdout",
     "output_type": "stream",
     "text": [
      "H e m a n t h "
     ]
    }
   ],
   "source": [
    "for i in a:\n",
    "    print(i, end=\" \")"
   ]
  },
  {
   "cell_type": "code",
   "execution_count": 19,
   "metadata": {},
   "outputs": [
    {
     "name": "stdout",
     "output_type": "stream",
     "text": [
      "['__add__', '__class__', '__contains__', '__delattr__', '__dir__', '__doc__', '__eq__', '__format__', '__ge__', '__getattribute__', '__getitem__', '__getnewargs__', '__gt__', '__hash__', '__init__', '__init_subclass__', '__iter__', '__le__', '__len__', '__lt__', '__mod__', '__mul__', '__ne__', '__new__', '__reduce__', '__reduce_ex__', '__repr__', '__rmod__', '__rmul__', '__setattr__', '__sizeof__', '__str__', '__subclasshook__', 'capitalize', 'casefold', 'center', 'count', 'encode', 'endswith', 'expandtabs', 'find', 'format', 'format_map', 'index', 'isalnum', 'isalpha', 'isascii', 'isdecimal', 'isdigit', 'isidentifier', 'islower', 'isnumeric', 'isprintable', 'isspace', 'istitle', 'isupper', 'join', 'ljust', 'lower', 'lstrip', 'maketrans', 'partition', 'replace', 'rfind', 'rindex', 'rjust', 'rpartition', 'rsplit', 'rstrip', 'split', 'splitlines', 'startswith', 'strip', 'swapcase', 'title', 'translate', 'upper', 'zfill']"
     ]
    }
   ],
   "source": [
    "print(dir(str()), end=\"\")"
   ]
  },
  {
   "cell_type": "code",
   "execution_count": 24,
   "metadata": {},
   "outputs": [
    {
     "name": "stdout",
     "output_type": "stream",
     "text": [
      "HEMANTH\n",
      "hemanth\n",
      "Hemanth\n",
      "False\n",
      "False\n"
     ]
    }
   ],
   "source": [
    "print(a.upper())\n",
    "print(a.lower())\n",
    "print(a.capitalize())\n",
    "print(a.islower())\n",
    "print(a.isupper())"
   ]
  },
  {
   "cell_type": "code",
   "execution_count": 1,
   "metadata": {},
   "outputs": [
    {
     "name": "stdout",
     "output_type": "stream",
     "text": [
      "Hemanth\n",
      "no of capital letters :1\n",
      "no of small letters :6\n"
     ]
    }
   ],
   "source": [
    "# take an input from the user its must be string:\n",
    "n = [i for i in input()]\n",
    "u = []\n",
    "l = []\n",
    "for j in n:\n",
    "    if j.isupper():\n",
    "        u.append(j)\n",
    "    else:\n",
    "        l.append(j)\n",
    "print(\"no of capital letters :\"+str(len(u)))\n",
    "print(\"no of small letters :\"+str(len(l)))"
   ]
  },
  {
   "cell_type": "markdown",
   "metadata": {},
   "source": [
    "### Lists \n",
    " - defined using []\n",
    " - mutable\n",
    " "
   ]
  },
  {
   "cell_type": "code",
   "execution_count": 5,
   "metadata": {},
   "outputs": [
    {
     "name": "stdout",
     "output_type": "stream",
     "text": [
      "[1, 2, 3, 4, 'ravi ', 'hemanth', 'prudhvi']\n",
      "<class 'list'>\n",
      "[1, 'ravi chandra', 3, 4, 'ravi ', 'hemanth', 'prudhvi']\n",
      "1 ravi chandra 3 4 ravi  hemanth prudhvi\n"
     ]
    }
   ],
   "source": [
    "li = [1, 2, 3, 4, \"ravi \", \"hemanth\", \"prudhvi\"]\n",
    "print(li)\n",
    "print(type(li))\n",
    "li[1] = \"ravi chandra\"\n",
    "print(li)\n",
    "print(*li)"
   ]
  },
  {
   "cell_type": "raw",
   "metadata": {},
   "source": [
    "print(*dir(list()), sep=\",\")"
   ]
  },
  {
   "cell_type": "code",
   "execution_count": 9,
   "metadata": {},
   "outputs": [
    {
     "name": "stdout",
     "output_type": "stream",
     "text": [
      "__add__;__class__;__contains__;__delattr__;__dir__;__doc__;__eq__;__format__;__ge__;__getattribute__;__getitem__;__getnewargs__;__gt__;__hash__;__init__;__init_subclass__;__iter__;__le__;__len__;__lt__;__mul__;__ne__;__new__;__reduce__;__reduce_ex__;__repr__;__rmul__;__setattr__;__sizeof__;__str__;__subclasshook__;count;index\n"
     ]
    }
   ],
   "source": [
    "print(*dir(tuple()), sep=\";\")"
   ]
  },
  {
   "cell_type": "markdown",
   "metadata": {},
   "source": [
    "### Dictionaries:\n",
    "- its is defines with {}\n",
    "- it has keys and values\n"
   ]
  },
  {
   "cell_type": "code",
   "execution_count": 11,
   "metadata": {},
   "outputs": [
    {
     "name": "stdout",
     "output_type": "stream",
     "text": [
      "{'name1': 'hemanth', 'name2': 'ravi chandra', 'name3': 'prudhvi'}\n"
     ]
    }
   ],
   "source": [
    "d = {\"name1\" : \"hemanth\", \"name2\" : \"ravi chandra\", \"name3\" :\"prudhvi\"} \n",
    "print(d)"
   ]
  },
  {
   "cell_type": "code",
   "execution_count": 13,
   "metadata": {},
   "outputs": [
    {
     "name": "stdout",
     "output_type": "stream",
     "text": [
      "__class__ ; __contains__ ; __delattr__ ; __delitem__ ; __dir__ ; __doc__ ; __eq__ ; __format__ ; __ge__ ; __getattribute__ ; __getitem__ ; __gt__ ; __hash__ ; __init__ ; __init_subclass__ ; __iter__ ; __le__ ; __len__ ; __lt__ ; __ne__ ; __new__ ; __reduce__ ; __reduce_ex__ ; __repr__ ; __reversed__ ; __setattr__ ; __setitem__ ; __sizeof__ ; __str__ ; __subclasshook__ ; clear ; copy ; fromkeys ; get ; items ; keys ; pop ; popitem ; setdefault ; update ; values\n"
     ]
    }
   ],
   "source": [
    "print(*dir(dict()), sep=\" ; \")"
   ]
  },
  {
   "cell_type": "code",
   "execution_count": 16,
   "metadata": {},
   "outputs": [
    {
     "name": "stdout",
     "output_type": "stream",
     "text": [
      "dict_items([('name', 'ravi chandra')])\n"
     ]
    }
   ],
   "source": [
    "d = {}\n",
    "d[\"name\"] = \"ravi chandra\"\n",
    "print(d.items())"
   ]
  },
  {
   "cell_type": "code",
   "execution_count": null,
   "metadata": {},
   "outputs": [],
   "source": []
  }
 ],
 "metadata": {
  "kernelspec": {
   "display_name": "Python 3",
   "language": "python",
   "name": "python3"
  },
  "language_info": {
   "codemirror_mode": {
    "name": "ipython",
    "version": 3
   },
   "file_extension": ".py",
   "mimetype": "text/x-python",
   "name": "python",
   "nbconvert_exporter": "python",
   "pygments_lexer": "ipython3",
   "version": "3.8.3"
  }
 },
 "nbformat": 4,
 "nbformat_minor": 4
}
